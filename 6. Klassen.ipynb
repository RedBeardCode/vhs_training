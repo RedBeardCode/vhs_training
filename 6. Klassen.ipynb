{
 "cells": [
  {
   "cell_type": "markdown",
   "metadata": {},
   "source": [
    "## Klassen\n",
    "\n",
    "Eine Klasse ist ein abstrakter Oberbegriff für die Beschreibung der gemeinsamen Struktur und des gemeinsamen Verhaltens von realen Objekten (Klassifizierung).\n",
    "\n",
    "Reale Objekte werden auf die für die Software wichtigen Merkmale abstrahiert.\n",
    "Die Klasse dient als Bauplan zur Abbildung von realen Objekten in Softwareobjekte, die sogenannten Instanzen. Die Klasse fasst hierfür notwendige Eigenschaften (Attribute) und zur Manipulation der Eigenschaften notwendige Methoden zusammen.\n",
    "Klassen stehen häufig in Beziehung zueinander. Man hat zum Beispiel eine Oberklasse (Konto) und aus dieser leitet sich eine andere Klasse ab (Sparkonto, Girokonto). Diese abgeleitete Klasse erbt bestimmte Eigenschaften und Methoden der Oberklasse. "
   ]
  },
  {
   "cell_type": "markdown",
   "metadata": {},
   "source": [
    "![classes](classes.png)"
   ]
  },
  {
   "cell_type": "markdown",
   "metadata": {},
   "source": [
    "### Methoden\n",
    "\n",
    " Eine Methode unterscheidet sich äußerlich nur in zwei Aspekten von von einer Funktion:\n",
    "\n",
    " - Sie ist eine Funktion, die innerhalb einer class-Definition definiert ist.\n",
    " - Der erste Parameter einer Methode ist immer eine Referenz self auf die Instanz, von der sie aufgerufen wird. \n",
    "\n",
    "Der Parameter self erscheint nur bei der Definition einer Methode. Beim Aufruf wird er nicht angegeben.\n",
    "Beispiel mit Methode:"
   ]
  },
  {
   "cell_type": "code",
   "execution_count": 1,
   "metadata": {},
   "outputs": [],
   "source": [
    "class Konto: \n",
    "    def ueberweisen(self, ziel, betrag): \n",
    "        pass \n",
    "    def einzahlen(self, betrag): \n",
    "        pass \n",
    "    def auszahlen(self, betrag): \n",
    "        pass \n",
    "    def kontostand(self): \n",
    "        pass"
   ]
  },
  {
   "cell_type": "markdown",
   "metadata": {},
   "source": [
    "### Konstruktor\n",
    "\n",
    "Wir benutzen nun die __init__-Methode, um die Objekte unserer Kontoklasse zu initialisieren. __init__\n",
    "Konstruktoren werden wie andere Methoden definiert: "
   ]
  },
  {
   "cell_type": "code",
   "execution_count": 2,
   "metadata": {},
   "outputs": [],
   "source": [
    "def __init__(self, inhaber, kontonummer, kontostand): \n",
    "    self.Inhaber = inhaber \n",
    "    self.Kontonummer = kontonummer \n",
    "    self.Kontostand = kontostand "
   ]
  },
  {
   "cell_type": "code",
   "execution_count": 3,
   "metadata": {},
   "outputs": [],
   "source": [
    "class Konto:\n",
    "    \n",
    "    def __init__(self, inhaber, kontonummer, kontostand): \n",
    "        self.Inhaber = inhaber \n",
    "        self.Kontonummer = kontonummer \n",
    "        self.Kontostand = kontostand \n",
    "        \n",
    "    def ueberweisen(self, ziel, betrag): \n",
    "        pass \n",
    "    def einzahlen(self, betrag): \n",
    "        pass \n",
    "    def auszahlen(self, betrag): \n",
    "        pass \n",
    "    def kontostand(self): \n",
    "        pass"
   ]
  },
  {
   "cell_type": "code",
   "execution_count": 4,
   "metadata": {},
   "outputs": [
    {
     "data": {
      "text/plain": [
       "3.14"
      ]
     },
     "execution_count": 4,
     "metadata": {},
     "output_type": "execute_result"
    }
   ],
   "source": [
    "mein_konto = Konto('ich', 123456, 3.14)\n",
    "mein_konto.Kontostand"
   ]
  },
  {
   "cell_type": "code",
   "execution_count": null,
   "metadata": {},
   "outputs": [],
   "source": []
  }
 ],
 "metadata": {
  "kernelspec": {
   "display_name": "Python 3",
   "language": "python",
   "name": "python3"
  },
  "language_info": {
   "codemirror_mode": {
    "name": "ipython",
    "version": 3
   },
   "file_extension": ".py",
   "mimetype": "text/x-python",
   "name": "python",
   "nbconvert_exporter": "python",
   "pygments_lexer": "ipython3",
   "version": "3.7.0"
  }
 },
 "nbformat": 4,
 "nbformat_minor": 2
}
