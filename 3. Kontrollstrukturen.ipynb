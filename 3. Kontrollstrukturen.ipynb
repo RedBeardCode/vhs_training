{
 "cells": [
  {
   "cell_type": "markdown",
   "metadata": {
    "slideshow": {
     "slide_type": "slide"
    }
   },
   "source": [
    "if-Anweisung\n",
    "--------------\n",
    "\n",
    "Wie im Leben müßen in Programmen oft Entscheidungen getroffen werden. In Python gibt es dafür die if-Anweisung was sich im Deutschen mit \"Wenn dann\"  audrücken läßt. So kann man einen bestimmten Code nur dann ausführen, wenn einen Bedingung erfühlt wird.\n",
    "\n",
    "Auch hier wird wieder über die Einrückung angeben welcher Code zur If-Anweisung gehört."
   ]
  },
  {
   "cell_type": "code",
   "execution_count": null,
   "metadata": {},
   "outputs": [],
   "source": [
    "a=-1\n",
    "if a < 0:\n",
    "    print(\"Die Zahl ist negativ\")\n",
    "print(\"Fertig\")"
   ]
  },
  {
   "cell_type": "markdown",
   "metadata": {
    "slideshow": {
     "slide_type": "subslide"
    }
   },
   "source": [
    "Zusätzlich zu den \"Wenn dann\"-Zweig gibt es auch noch den \"oder\"-Zweig."
   ]
  },
  {
   "cell_type": "code",
   "execution_count": 1,
   "metadata": {},
   "outputs": [
    {
     "name": "stdout",
     "output_type": "stream",
     "text": [
      "Die Zahl ist positiv\n",
      "Fertig\n"
     ]
    }
   ],
   "source": [
    "a=1\n",
    "if a < 0:\n",
    "    print(\"Die Zahl ist negativ\")\n",
    "else:\n",
    "    print(\"Die Zahl ist positiv\")\n",
    "print(\"Fertig\")"
   ]
  },
  {
   "cell_type": "markdown",
   "metadata": {
    "slideshow": {
     "slide_type": "subslide"
    }
   },
   "source": [
    "Dann gibt es das Ganze noch in Kombination, also \"oder wenn\"."
   ]
  },
  {
   "cell_type": "code",
   "execution_count": null,
   "metadata": {},
   "outputs": [],
   "source": [
    "a=0\n",
    "if a < 0:\n",
    "    print(\"Die Zahl ist negativ\")\n",
    "elif a ==0:\n",
    "    print(\"Die Zahl ist Null\")\n",
    "else:\n",
    "    print(\"Die Zahl ist positiv\")\n",
    "print(\"Fertig\")"
   ]
  },
  {
   "cell_type": "markdown",
   "metadata": {
    "slideshow": {
     "slide_type": "subslide"
    }
   },
   "source": [
    "> _ __Beispiel__ _\n",
    ">\n",
    "> Erstelle einen etwas besseren Taschenrechner, der den Benutzer nach einer Berechnung als String mit zwei Zahlenz.B \"5+8\" oder \"8/4\" (alle 4 Grundrechenarten) frägt und das Ergebnis dieser Berechung zurückgibt."
   ]
  },
  {
   "cell_type": "markdown",
   "metadata": {
    "collapsed": true,
    "slideshow": {
     "slide_type": "slide"
    }
   },
   "source": [
    "for-Schleifen\n",
    "-------------\n",
    "\n",
    "Eine weitere wichtige Kontrollstruktur sind die for-Schleife, diese läßt sich vielleicht am besten übersetzen als \"Für jedes Element eines Iterierbaren Objekts\". Iterierbare sind zum Beispeil Listen, Tuple, Strings und Dictionaries. In einer For-Schleife wird für jedes Element z.B. aus einer Liste der zur For-Schleife gehörende Codebereich ausgeführt.\n",
    "\n"
   ]
  },
  {
   "cell_type": "code",
   "execution_count": 2,
   "metadata": {},
   "outputs": [
    {
     "data": {
      "text/plain": [
       "21"
      ]
     },
     "execution_count": 2,
     "metadata": {},
     "output_type": "execute_result"
    }
   ],
   "source": [
    "a = [1, 2, 3, 4, 5, 6]\n",
    "summe = 0\n",
    "for i in a:\n",
    "    summe += i\n",
    "summe"
   ]
  },
  {
   "cell_type": "markdown",
   "metadata": {
    "slideshow": {
     "slide_type": "subslide"
    }
   },
   "source": [
    "Will man eigentlich nicht über eine Iterierbares Objekt iterieren, sonderen einen Codebereich einfach x-mal ausführen benutzt man am einfachsten die range-Funktion. Die range erzeugt ein listenähnliches Objekte über das dann iteriert wird. Wie in Python üblich beginnt der Bereich bei 0 und die obere Grenze ist nicht enthalten."
   ]
  },
  {
   "cell_type": "code",
   "execution_count": 3,
   "metadata": {},
   "outputs": [
    {
     "name": "stdout",
     "output_type": "stream",
     "text": [
      "0 1 2 3 4 5 6 7 8 9 "
     ]
    }
   ],
   "source": [
    "for i in range(10):\n",
    "    print(i, \"\", end=\"\")"
   ]
  },
  {
   "cell_type": "code",
   "execution_count": 4,
   "metadata": {},
   "outputs": [
    {
     "name": "stdout",
     "output_type": "stream",
     "text": [
      "1 2 3 4 5 6 7 8 9 "
     ]
    }
   ],
   "source": [
    "for i in range(1, 10):\n",
    "    print(i, \"\", end=\"\")"
   ]
  },
  {
   "cell_type": "code",
   "execution_count": 5,
   "metadata": {},
   "outputs": [
    {
     "name": "stdout",
     "output_type": "stream",
     "text": [
      "1 3 5 7 9 "
     ]
    }
   ],
   "source": [
    "for i in range(1, 10, 2):\n",
    "    print(i, \"\", end=\"\")"
   ]
  },
  {
   "cell_type": "markdown",
   "metadata": {
    "slideshow": {
     "slide_type": "subslide"
    }
   },
   "source": [
    "> _ __Beispiel__ _\n",
    ">\n",
    "> Benutze die Textbeispieldatei und bestimme die Anzahl des Auftretens des Wortes \"Glocke\" und des Buchstaben \"e\"."
   ]
  },
  {
   "cell_type": "markdown",
   "metadata": {
    "slideshow": {
     "slide_type": "slide"
    }
   },
   "source": [
    "while-Schleife\n",
    "--------------\n",
    "\n",
    "Die while-Schleife bietet eine Möglichkeiten einen Codebereich solange auszuführen solange eine Bedingung erfüllt ist."
   ]
  },
  {
   "cell_type": "code",
   "execution_count": null,
   "metadata": {},
   "outputs": [],
   "source": [
    "summe = 1\n",
    "num_runs = 0\n",
    "while summe < 100:\n",
    "    summe += summe\n",
    "    num_runs += 1\n",
    "summe, num_runs"
   ]
  },
  {
   "cell_type": "markdown",
   "metadata": {
    "slideshow": {
     "slide_type": "subslide"
    }
   },
   "source": [
    "\n",
    "> _ __Beispiel__ _\n",
    ">\n",
    "> - Zähle mit Hilfe eines Dictionarys für jedes Wort wie oft es vorkommt.\n",
    "> - Wieviel unterschiedliche Worte wurden in dem Text verwendet?\n",
    "> - Finde das Wort, das man häufigsten verwendet wird.\n",
    "> - Geben Sie die Worthäufigkeiten in alphabetischer Reihenfolge der Wörter aus. __TIP__: https://docs.python.org/3/howto/sorting.html\n",
    "> - __Zum Knobbeln__: Gebe die Worthäfigkeit und das dazugehörige Wort in absteigender Reihenfolge aus.\n"
   ]
  },
  {
   "cell_type": "markdown",
   "metadata": {
    "slideshow": {
     "slide_type": "subslide"
    }
   },
   "source": [
    ">_ __Beispiel__ _\n",
    ">\n",
    "> [Fahrtenbuch](http://localhost:8888/notebooks/4.%20Fahrtenbuch.ipynb)"
   ]
  }
 ],
 "metadata": {
  "anaconda-cloud": {},
  "celltoolbar": "Slideshow",
  "kernelspec": {
   "display_name": "Python 3",
   "language": "python",
   "name": "python3"
  },
  "language_info": {
   "codemirror_mode": {
    "name": "ipython",
    "version": 3
   },
   "file_extension": ".py",
   "mimetype": "text/x-python",
   "name": "python",
   "nbconvert_exporter": "python",
   "pygments_lexer": "ipython3",
   "version": "3.6.3"
  }
 },
 "nbformat": 4,
 "nbformat_minor": 2
}
