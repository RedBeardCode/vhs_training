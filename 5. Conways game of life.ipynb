{
 "cells": [
  {
   "cell_type": "markdown",
   "metadata": {},
   "source": [
    "## Conways Game of Life\n",
    "\n",
    "![GameOfLifeGif](life.gif)"
   ]
  },
  {
   "cell_type": "markdown",
   "metadata": {},
   "source": [
    "### Spielregeln\n",
    "\n",
    "1. Eine tote Zelle mit genau drei lebenden Nachbarn wird in der Folgegeneration neu geboren.\n",
    "\n",
    "  \t\t\n",
    " ![rule1](life_rule_1.png)\t\n",
    "  \t\t\n",
    "\n",
    "- rot: Tote Zelle, die in der nächsten Generation geboren wird\n",
    "- grün: Lebende Nachbarn der Zelle"
   ]
  },
  {
   "cell_type": "markdown",
   "metadata": {},
   "source": [
    "2. Lebende Zellen mit weniger als zwei lebenden Nachbarn sterben in der Folgegeneration an Einsamkeit.\n",
    "\n",
    "![rule](life_rule_2.png)"
   ]
  },
  {
   "cell_type": "markdown",
   "metadata": {},
   "source": [
    "3. Eine lebende Zelle mit zwei oder drei lebenden Nachbarn bleibt in der Folgegeneration am Leben.\n",
    "\n",
    "![rule3](life_rule_3.png)"
   ]
  },
  {
   "cell_type": "markdown",
   "metadata": {},
   "source": [
    "4. Lebende Zellen mit mehr als drei lebenden Nachbarn sterben in der Folgegeneration an Überbevölkerung.\n",
    "\n",
    "  \t\t\n",
    " ![Rule4](life_rule_4.png)\t\t\n",
    "  \t\t\n",
    "\n",
    "- magenta: Lebende Zelle, die betrachtet wird\n",
    "- grün: Lebende Nachbarn der Zelle"
   ]
  },
  {
   "cell_type": "markdown",
   "metadata": {},
   "source": [
    "## Spielfeld\n",
    "\n",
    "![field](field.png)"
   ]
  },
  {
   "cell_type": "code",
   "execution_count": null,
   "metadata": {},
   "outputs": [],
   "source": []
  }
 ],
 "metadata": {
  "kernelspec": {
   "display_name": "Python 3",
   "language": "python",
   "name": "python3"
  },
  "language_info": {
   "codemirror_mode": {
    "name": "ipython",
    "version": 3
   },
   "file_extension": ".py",
   "mimetype": "text/x-python",
   "name": "python",
   "nbconvert_exporter": "python",
   "pygments_lexer": "ipython3",
   "version": "3.7.0"
  }
 },
 "nbformat": 4,
 "nbformat_minor": 2
}
