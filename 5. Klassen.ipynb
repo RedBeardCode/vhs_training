{
 "cells": [
  {
   "cell_type": "markdown",
   "metadata": {
    "slideshow": {
     "slide_type": "slide"
    }
   },
   "source": [
    "Klassen\n",
    "--------\n",
    "\n",
    "Eine Klasse ist ein Bauplan für Objekte. In ihr werden Aufbau und das Verhalten einer Menge von Objekten beschrieben. Ein Objekt wiederum gehört immer zu einer bestimmten Klasse. Man sagt, ein Objekt ist eine Instanz einer Klasse."
   ]
  },
  {
   "cell_type": "markdown",
   "metadata": {
    "slideshow": {
     "slide_type": "subslide"
    }
   },
   "source": [
    "__Beispiel:__"
   ]
  },
  {
   "cell_type": "code",
   "execution_count": 51,
   "metadata": {
    "collapsed": true,
    "slideshow": {
     "slide_type": "-"
    }
   },
   "outputs": [],
   "source": [
    "class Car:                                      #Definition einer Klasse\n",
    "    def __init__(self, color, power):\n",
    "        self.color = color\n",
    "        self.power = power #kW"
   ]
  },
  {
   "cell_type": "code",
   "execution_count": 52,
   "metadata": {
    "collapsed": false
   },
   "outputs": [],
   "source": [
    "rusty_jalopy = Car('blau', 59)                #Instanzierung von Objekten\n",
    "speedster = Car('rot', 379)\n"
   ]
  },
  {
   "cell_type": "code",
   "execution_count": 53,
   "metadata": {
    "collapsed": false,
    "slideshow": {
     "slide_type": "subslide"
    }
   },
   "outputs": [
    {
     "name": "stdout",
     "output_type": "stream",
     "text": [
      "Das Auto ist blau und hat 59kW\n"
     ]
    }
   ],
   "source": [
    "print('Das Auto ist {} und hat {}kW'.format(rusty_jalopy.color, \n",
    "                                            rusty_jalopy.power))"
   ]
  },
  {
   "cell_type": "code",
   "execution_count": 54,
   "metadata": {
    "collapsed": false
   },
   "outputs": [
    {
     "name": "stdout",
     "output_type": "stream",
     "text": [
      "Das Auto ist rot und hat 379kW\n"
     ]
    }
   ],
   "source": [
    "print('Das Auto ist {} und hat {}kW'.format(speedster.color, \n",
    "                                            speedster.power))"
   ]
  },
  {
   "cell_type": "markdown",
   "metadata": {
    "slideshow": {
     "slide_type": "subslide"
    }
   },
   "source": [
    "__Bestandteile einer Klasse sind:__\n",
    "\n",
    "- Attribute: Variablen, die die Eigenschaften beschreiben z.B. Farbe\n",
    "- Methoden: Funktion, die das Verhalten der Klasse beschreiben."
   ]
  },
  {
   "cell_type": "code",
   "execution_count": 55,
   "metadata": {
    "collapsed": true
   },
   "outputs": [],
   "source": [
    "class Car:                                      \n",
    "    def __init__(self, color, power):\n",
    "        self.color = color\n",
    "        self.power = power #kW\n",
    "        self.__engine_running = False\n",
    "    \n",
    "    def start_engine(self):\n",
    "        self.__engine_running = True\n",
    "    \n",
    "    def stop_engine(self):\n",
    "        self.__engine_running = False"
   ]
  },
  {
   "cell_type": "markdown",
   "metadata": {
    "slideshow": {
     "slide_type": "subslide"
    }
   },
   "source": [
    "__ Was sollen die komischen \\_\\_ vor den Name __\n",
    "\n",
    "Die Unterstriche steuern in Python die Zugriffsrechte der Attribute und Methoden.\n",
    "\n",
    "- Attribute und Methoden ohne Unterstrich sind öffentlich, können also jederzeit verwendet werden\n",
    "- Attribute und Methoden mit einen Unterstrich sind geschützt und können nur von Objekten der gleichen Familie verwendet werden. \n",
    "- Attribute und Methoden mit zwei Unterschrichen sind private und können nur innerhalb des Objekts verwendet werden."
   ]
  },
  {
   "cell_type": "code",
   "execution_count": 56,
   "metadata": {
    "collapsed": false,
    "slideshow": {
     "slide_type": "subslide"
    }
   },
   "outputs": [
    {
     "data": {
      "text/plain": [
       "'blau'"
      ]
     },
     "execution_count": 56,
     "metadata": {},
     "output_type": "execute_result"
    }
   ],
   "source": [
    "rusty_jalopy.color"
   ]
  },
  {
   "cell_type": "code",
   "execution_count": 57,
   "metadata": {
    "collapsed": false
   },
   "outputs": [
    {
     "ename": "AttributeError",
     "evalue": "'Car' object has no attribute '__engine_running'",
     "output_type": "error",
     "traceback": [
      "\u001b[0;31m-------------------------------------------------------------------\u001b[0m",
      "\u001b[0;31mAttributeError\u001b[0m                    Traceback (most recent call last)",
      "\u001b[0;32m<ipython-input-57-738fd741106c>\u001b[0m in \u001b[0;36m<module>\u001b[0;34m()\u001b[0m\n\u001b[0;32m----> 1\u001b[0;31m \u001b[0mrusty_jalopy\u001b[0m\u001b[0;34m.\u001b[0m\u001b[0m__engine_running\u001b[0m\u001b[0;34m\u001b[0m\u001b[0m\n\u001b[0m",
      "\u001b[0;31mAttributeError\u001b[0m: 'Car' object has no attribute '__engine_running'"
     ]
    }
   ],
   "source": [
    "rusty_jalopy.__engine_running"
   ]
  },
  {
   "cell_type": "markdown",
   "metadata": {
    "slideshow": {
     "slide_type": "subslide"
    }
   },
   "source": [
    ">__Achtung__\n",
    ">\n",
    "> Das setzen von \\_\\_engine_running = True würde keinen Fehler verursachen."
   ]
  },
  {
   "cell_type": "code",
   "execution_count": 58,
   "metadata": {
    "collapsed": true
   },
   "outputs": [],
   "source": [
    "rusty_jalopy.__engine_running = True"
   ]
  },
  {
   "cell_type": "markdown",
   "metadata": {},
   "source": [
    "> Dabei wir ein neues Attribute angelegt, dass danach auch wieder gelesen werden kann."
   ]
  },
  {
   "cell_type": "code",
   "execution_count": 59,
   "metadata": {
    "collapsed": false
   },
   "outputs": [
    {
     "data": {
      "text/plain": [
       "True"
      ]
     },
     "execution_count": 59,
     "metadata": {},
     "output_type": "execute_result"
    }
   ],
   "source": [
    "rusty_jalopy.__engine_running"
   ]
  },
  {
   "cell_type": "markdown",
   "metadata": {
    "slideshow": {
     "slide_type": "subslide"
    }
   },
   "source": [
    "__Beispiel__:\n",
    "\n",
    " Eine Klasse, die in vielen Programmen immer wieder verwendet wird ist der _Observer_. Der _Observer_ beobachtet einen\n",
    " Wert, die sogenannte _Observable_, und führt wenn dieser Wert sich verändert eine Aktion durch. Da dieses Kombination\n",
    " immer wieder verwendet wird nennt man diese Kombination ein Entwurfsmuster.\n",
    " Um dieses Entwurfsmuster zu implementieren entwerfe 2 Klassen.\n",
    " \n",
    "\n"
   ]
  },
  {
   "cell_type": "markdown",
   "metadata": {
    "slideshow": {
     "slide_type": "subslide"
    }
   },
   "source": [
    "<small>\n",
    "1. Observable: \n",
    "\n",
    "   Attribute:\n",
    "\n",
    "    - Eine private Variable in der der Wert gespeichert der beobachtet wird\n",
    "    - Eine List mit Observer (Beobachtern)\n",
    "\n",
    "   Methoden: \n",
    "\n",
    "    - Eine Funktion um den Wert der privaten Variable zu setzen (Setter)\n",
    "    - Eine Funktion um den Wert der privaten Variablen zu lesen (Getter)\n",
    "    - Eine Funktion um Observer, die benachrichtigt werden wollen, anzumelden\n",
    "    - Eine private Funktion die alle Observer benachrichtigt wenn sich der Wert der Variablen geändert hat.\n",
    "\n",
    "\n",
    "2. Observer:\n",
    "\n",
    "   Attribute:\n",
    "\n",
    "    - Eine Vabriable mit die einen Namen speichert\n",
    "\n",
    "   Methoden:\n",
    "\n",
    "    - Funktion, die aufgerufen wird, wenn sich die Observable geändert hat und den eigenen Namen und den neuen Wert der \n",
    "    der Variablen\n",
    "</small>"
   ]
  },
  {
   "cell_type": "markdown",
   "metadata": {
    "slideshow": {
     "slide_type": "slide"
    }
   },
   "source": [
    "Vererbung\n",
    "-----------\n",
    "\n",
    "Vererbung beschreibt die Beziehung zwischen einer allgemeinen Klasse (Basisklasse, Elternklasse), und einer spezialisierten Klasse (Kindklasse). Die Kindklasse besitzt sämtliche Attribute und Methoden der Elternklasse. Man sagt, die Elternklasse vererbt ihre Merkmale an ihre Kindklassen. Darüber hinaus hat eine Unterklasse aber in der Regel noch zusätzliche Methoden und Attribute. "
   ]
  },
  {
   "cell_type": "code",
   "execution_count": 3,
   "metadata": {
    "collapsed": true
   },
   "outputs": [],
   "source": [
    "class Vehicle:\n",
    "    def __init__(self):\n",
    "        self._color = ''\n",
    "        self._number_of_wheels = 0\n",
    "        self._max_speed = 0\n",
    "        \n",
    "    def describe(self):\n",
    "        return 'Das Fahrzeug hat {} Räder, ist {} und kann maximal {} km/h fahren'.format(\n",
    "            self._number_of_wheels,\n",
    "            self._color,\n",
    "            self._max_speed\n",
    "        )\n",
    "        \n"
   ]
  },
  {
   "cell_type": "code",
   "execution_count": 4,
   "metadata": {
    "collapsed": false,
    "slideshow": {
     "slide_type": "subslide"
    }
   },
   "outputs": [],
   "source": [
    "class Car(Vehicle):\n",
    "    def __init__(self, color, max_speed, power):\n",
    "        super().__init__()    # In Python 2 muss es so aussehen super(Car, self).__init__()\n",
    "        self._color = color\n",
    "        self._number_of_wheels = 4\n",
    "        self._max_speed = max_speed\n",
    "        self.power = power\n",
    "        \n",
    "class Bicycle(Vehicle):\n",
    "    def __init__(self, color, max_speed, number_gears):\n",
    "        super().__init__()\n",
    "        self._color = color\n",
    "        self._number_of_wheels = 2\n",
    "        self._max_speed = max_speed\n",
    "        self.number_gears = number_gears\n",
    "        "
   ]
  },
  {
   "cell_type": "markdown",
   "metadata": {},
   "source": [
    "#### Die super Funktion\n",
    "\n",
    "Will man, dass im Aufruf einer Methode einer Kindklasse auch die Methode der Elterklasse aufgerufen wird verwendet man die super Funktion. Diese gibt auch bei kompiliziertern Vererbungshierachien die richtige Basisklasse zurück.\n",
    "\n",
    "In Python 3 lautet der Aufruf einfach \n",
    "```Python\n",
    "super().function()\n",
    "```\n",
    "\n",
    "In Python 2 ist der Aufruf etwas kompilizierter\n",
    "```Python\n",
    "super(DieKlasse, self).function()\n",
    "```"
   ]
  },
  {
   "cell_type": "code",
   "execution_count": 5,
   "metadata": {
    "collapsed": false,
    "slideshow": {
     "slide_type": "subslide"
    }
   },
   "outputs": [
    {
     "data": {
      "text/plain": [
       "'Das Fahrzeug hat 4 Räder, ist blau und kann maximal 180 km/h fahren'"
      ]
     },
     "execution_count": 5,
     "metadata": {},
     "output_type": "execute_result"
    }
   ],
   "source": [
    "car = Car('blau', 180, 90)\n",
    "car.describe()"
   ]
  },
  {
   "cell_type": "code",
   "execution_count": 63,
   "metadata": {
    "collapsed": false
   },
   "outputs": [
    {
     "data": {
      "text/plain": [
       "'Das Fahrzeug hat 2 Räder, ist red und kann maximal 40 km/h fahren'"
      ]
     },
     "execution_count": 63,
     "metadata": {},
     "output_type": "execute_result"
    }
   ],
   "source": [
    "bike = Bicycle('red', 40, 21)\n",
    "bike.describe()"
   ]
  },
  {
   "cell_type": "markdown",
   "metadata": {
    "slideshow": {
     "slide_type": "subslide"
    }
   },
   "source": [
    "> __Achtung__: \n",
    "> \n",
    "> Der Zugriff auf geschützte Attribute/Methoden ist kein Fehler. Wird aber von Quellcodeanalysetools als unschön\n",
    "> angemerkt. Der Schutz durch einen einfachen \\_ ist nur eine Konvention.\n",
    ">"
   ]
  },
  {
   "cell_type": "code",
   "execution_count": 1,
   "metadata": {
    "collapsed": false
   },
   "outputs": [
    {
     "ename": "NameError",
     "evalue": "name 'car' is not defined",
     "output_type": "error",
     "traceback": [
      "\u001b[0;31m---------------------------------------------------------------------------\u001b[0m",
      "\u001b[0;31mNameError\u001b[0m                                 Traceback (most recent call last)",
      "\u001b[0;32m<ipython-input-1-ddc68e8c7da9>\u001b[0m in \u001b[0;36m<module>\u001b[0;34m()\u001b[0m\n\u001b[0;32m----> 1\u001b[0;31m \u001b[0mcar\u001b[0m\u001b[0;34m.\u001b[0m\u001b[0m_color\u001b[0m\u001b[0;34m\u001b[0m\u001b[0m\n\u001b[0m",
      "\u001b[0;31mNameError\u001b[0m: name 'car' is not defined"
     ]
    }
   ],
   "source": [
    "car._color"
   ]
  },
  {
   "cell_type": "markdown",
   "metadata": {
    "slideshow": {
     "slide_type": "subslide"
    }
   },
   "source": [
    "__Beispiel:__\n",
    "\n",
    "- Erstelle eine Basisklasse für einen regelmäßig geformten geometrischen Körper (Quader, Würfel, Zylinder) der das\n",
    "Volumen des Körpers aus Höhe und Fläche berechnet (Volumen = Höhe * Fläche).\n",
    "- Erstelle Kindklassen für folgenden Körper und den angeben Konstruktorparametern\n",
    "  - Quader\n",
    "    Parameter: Länge, Breite, Höhe\n",
    "  - Würfel\n",
    "    Parameter: Kantenlänge\n",
    "  - Zylinder:\n",
    "    Parameter: Durchmesser, Höhe\n"
   ]
  },
  {
   "cell_type": "markdown",
   "metadata": {
    "slideshow": {
     "slide_type": "subslide"
    }
   },
   "source": [
    "- Erstelle Klassen für Kegel, Kegelstümpfe und trapezförmige Quader mit korrekter Volumenberechnung. \n",
    "  \n",
    "  _Tip:_ Achte auf gemeinsamkeiten.\n",
    "\n",
    "\n",
    "|Kegel|Kegelstumpf|\n",
    "|-----|-----------|\n",
    "|![Kegel](img/Gerader_Kreiskegel.svg.png)  |  ![Kegelstumpf](img/300px-Kegelstumpf.svg.png)|\n",
    "|![Kegel](img/kegel_volumen.svg)|![Kegel](img/kegelstumpf_volumen.svg)|\n",
    "\n",
    "  "
   ]
  },
  {
   "cell_type": "markdown",
   "metadata": {
    "slideshow": {
     "slide_type": "subslide"
    }
   },
   "source": [
    "Mehrfache Vererbung\n",
    "----------------------\n",
    "\n",
    "Eine Klasse kann auch die Eigenschaften von mehrern Basisklassen erben, was allerdings manchmal zu komplizierten und unübersichtlichen Vererbungsstrukturen führen kann.\n",
    "\n",
    "Wird ein Attribute oder Methoden in mehreren Basisklassen definiert, dann verwendet Python immer die Methode, die als erstes in der Vererbungstruktur auftaucht."
   ]
  },
  {
   "cell_type": "code",
   "execution_count": 10,
   "metadata": {
    "collapsed": false,
    "slideshow": {
     "slide_type": "subslide"
    }
   },
   "outputs": [
    {
     "name": "stdout",
     "output_type": "stream",
     "text": [
      "m of B called\n"
     ]
    }
   ],
   "source": [
    "class A:\n",
    "    def m(self):\n",
    "        print(\"m of A called\")\n",
    "\n",
    "class B(A):\n",
    "    def m(self):\n",
    "        print(\"m of B called\")\n",
    "    \n",
    "class C(A):\n",
    "    def m(self):\n",
    "        print(\"m of C called\")\n",
    "\n",
    "class D(B,C):\n",
    "    pass\n",
    "\n",
    "x = D()\n",
    "x.m()"
   ]
  },
  {
   "cell_type": "code",
   "execution_count": 12,
   "metadata": {
    "collapsed": false
   },
   "outputs": [
    {
     "name": "stdout",
     "output_type": "stream",
     "text": [
      "m of C called\n"
     ]
    }
   ],
   "source": [
    "class D(C, B):\n",
    "    pass\n",
    "x = D()\n",
    "x.m()"
   ]
  },
  {
   "cell_type": "code",
   "execution_count": 14,
   "metadata": {
    "collapsed": false,
    "slideshow": {
     "slide_type": "subslide"
    }
   },
   "outputs": [
    {
     "name": "stdout",
     "output_type": "stream",
     "text": [
      "m of C called\n"
     ]
    }
   ],
   "source": [
    "class A:\n",
    "    def m(self):\n",
    "        print(\"m of A called\")\n",
    "\n",
    "class B(A):\n",
    "    pass\n",
    "    \n",
    "class C(A):\n",
    "    def m(self):\n",
    "        print(\"m of C called\")\n",
    "\n",
    "class D(B,C):\n",
    "    pass\n",
    "\n",
    "x = D()\n",
    "x.m()"
   ]
  },
  {
   "cell_type": "code",
   "execution_count": 16,
   "metadata": {
    "collapsed": false
   },
   "outputs": [
    {
     "name": "stdout",
     "output_type": "stream",
     "text": [
      "m of C called\n"
     ]
    }
   ],
   "source": [
    "class D(C, B):\n",
    "    pass\n",
    "x = D()\n",
    "x.m()"
   ]
  },
  {
   "cell_type": "markdown",
   "metadata": {
    "slideshow": {
     "slide_type": "subslide"
    }
   },
   "source": [
    "Aber was macht `super` eigentlich wenn Methoden mehrfach überschrieben werden"
   ]
  },
  {
   "cell_type": "code",
   "execution_count": null,
   "metadata": {
    "collapsed": false
   },
   "outputs": [],
   "source": [
    "class A:\n",
    "    def __init__(self):\n",
    "        print(\"A.__init__\")\n",
    "\n",
    "class B(A):\n",
    "    def __init__(self):\n",
    "        print(\"B.__init__\")\n",
    "        super().__init__()\n",
    "    \n",
    "class C(A):\n",
    "    def __init__(self):\n",
    "        print(\"C.__init__\")\n",
    "        super().__init__()\n",
    "\n",
    "\n",
    "class D(B,C):\n",
    "    def __init__(self):\n",
    "        print(\"D.__init__\")\n",
    "        super().__init__()\n",
    "\n",
    "d = D()\n"
   ]
  },
  {
   "cell_type": "code",
   "execution_count": null,
   "metadata": {
    "collapsed": true
   },
   "outputs": [],
   "source": []
  }
 ],
 "metadata": {
  "celltoolbar": "Slideshow",
  "kernelspec": {
   "display_name": "Python 3",
   "language": "python",
   "name": "python3"
  },
  "language_info": {
   "codemirror_mode": {
    "name": "ipython",
    "version": 3
   },
   "file_extension": ".py",
   "mimetype": "text/x-python",
   "name": "python",
   "nbconvert_exporter": "python",
   "pygments_lexer": "ipython3",
   "version": "3.6.2"
  }
 },
 "nbformat": 4,
 "nbformat_minor": 2
}
