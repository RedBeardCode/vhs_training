{
 "cells": [
  {
   "cell_type": "markdown",
   "metadata": {
    "collapsed": true,
    "slideshow": {
     "slide_type": "slide"
    }
   },
   "source": [
    "Das einfachste Program der Welt\n",
    "-------------------------------\n",
    "\n",
    "Das erste Programm in jeder Programmiersprache ist \"Hello World\". Zugegebenermassen ist das Programm auf den ersten Blick sinnlos. Aber läuft dieses Programm ist sichergestellt, dass die Infrastruktur richtig installiert wurde."
   ]
  },
  {
   "cell_type": "code",
   "execution_count": null,
   "metadata": {},
   "outputs": [],
   "source": [
    "print('Hello World')"
   ]
  },
  {
   "cell_type": "markdown",
   "metadata": {
    "slideshow": {
     "slide_type": "subslide"
    }
   },
   "source": [
    "Was ist eigentlich ein Pythonprogramm\n",
    "--------------------------------------------\n",
    "\n",
    "Ein Pythonprogramm besteht aus einer oder mehreren Textdateien. Jede Textdatei wird auch Modul genannt. Diese Textdatei enthält Anweisungen die vom Pythoninterpreter Schritt für Schritt ausgeführt werden.\n",
    "\n",
    "Einzelne Kommandos kann man auch direkt im Pythoninterperter, oder Pythonkonsole genannt, ausführen. Für erste Test kann dies sehr hilfreich sein."
   ]
  },
  {
   "cell_type": "markdown",
   "metadata": {
    "slideshow": {
     "slide_type": "slide"
    }
   },
   "source": [
    "# Variablen\n",
    "----------\n",
    "\n",
    "Python ist dynamisch typisiert, d.h. Python entscheidet selber welchen Datentyp es für eine Variable verwendet. Dafür verwendet es das sogenannte\n",
    "__*Duck-Typing*__\n",
    "\n",
    ">„Wenn ich einen Vogel sehe, der wie eine Ente läuft, wie eine Ente schwimmt und wie eine Ente schnattert, dann nenne ich diesen Vogel eine Ente.“\n",
    "\n",
    ">_James Whitcomb Riley_\n"
   ]
  },
  {
   "cell_type": "code",
   "execution_count": null,
   "metadata": {
    "slideshow": {
     "slide_type": "subslide"
    }
   },
   "outputs": [],
   "source": [
    "i = 5\n",
    "type(i)"
   ]
  },
  {
   "cell_type": "code",
   "execution_count": null,
   "metadata": {},
   "outputs": [],
   "source": [
    "f = 5.0\n",
    "type(f)"
   ]
  },
  {
   "cell_type": "code",
   "execution_count": null,
   "metadata": {
    "slideshow": {
     "slide_type": "-"
    }
   },
   "outputs": [],
   "source": [
    "a = 'spam'\n",
    "type(a)"
   ]
  },
  {
   "cell_type": "code",
   "execution_count": null,
   "metadata": {
    "slideshow": {
     "slide_type": "subslide"
    }
   },
   "outputs": [],
   "source": [
    "a + ' spam'"
   ]
  },
  {
   "cell_type": "code",
   "execution_count": null,
   "metadata": {},
   "outputs": [],
   "source": [
    "a + 1"
   ]
  },
  {
   "cell_type": "code",
   "execution_count": null,
   "metadata": {},
   "outputs": [],
   "source": [
    "i + f"
   ]
  },
  {
   "cell_type": "markdown",
   "metadata": {
    "slideshow": {
     "slide_type": "subslide"
    }
   },
   "source": [
    "In anderen Sprachen wie zum Beispiel Java oder C++ sind statisch typisiert, d.h. beim Anlegen einer Variablen muss immer der Typ mit angegeben werden.\n",
    "\n",
    "```c\n",
    "int i=5;\n",
    "```\n"
   ]
  },
  {
   "cell_type": "markdown",
   "metadata": {
    "slideshow": {
     "slide_type": "slide"
    }
   },
   "source": [
    "Funktion\n",
    "---------\n",
    "\n",
    "Funktionen dienen zur Strukturierung des Programmcodes. So lassen sich kleine, einfache, wiederverwendtbare Einheiten schaffen die den Code lesbarer machen.\n",
    "Um zu festzulegen welcher Code zu einer Funktion gehört verwendet Python die Einrückung als Kennzeichung. Das hat zur folge, dass der Code dadurch automatisch auch lesbarer wird.\n",
    "Die Definition einer Funktion beginnt immer mit dem Schlüsselwort __def__ gefolgt von dem Funktionsnamen."
   ]
  },
  {
   "cell_type": "code",
   "execution_count": null,
   "metadata": {},
   "outputs": [],
   "source": [
    "def first_useless_function():\n",
    "    print('Doing nothing')\n",
    "    \n",
    "\n",
    "    \n",
    "first_useless_function()"
   ]
  },
  {
   "cell_type": "markdown",
   "metadata": {
    "slideshow": {
     "slide_type": "subslide"
    }
   },
   "source": [
    "Bei der Definition von Funktionen kann mann auch immer Übergabeparameter definieren und sie können Ergebnisse zurückgeben."
   ]
  },
  {
   "cell_type": "code",
   "execution_count": null,
   "metadata": {},
   "outputs": [],
   "source": [
    "def function_with_parameter(spam, egg, ham):\n",
    "    print (spam, egg, ham)\n",
    "    \n",
    "function_with_parameter(42, 'spam', 3.1415)"
   ]
  },
  {
   "cell_type": "code",
   "execution_count": null,
   "metadata": {},
   "outputs": [],
   "source": [
    "def function_with_result(spam):\n",
    "    return spam\n"
   ]
  },
  {
   "cell_type": "code",
   "execution_count": null,
   "metadata": {},
   "outputs": [],
   "source": [
    "def function_with_results(spam, egg):\n",
    "    return spam, egg\n",
    "\n",
    "a = function_with_results(1 ,2)\n",
    "print(a)"
   ]
  },
  {
   "cell_type": "markdown",
   "metadata": {
    "slideshow": {
     "slide_type": "subslide"
    }
   },
   "source": [
    "___Beispiel___\n",
    "\n",
    "Erstelle einen sehr einfachen Taschenrechner. Der Benutzer soll aufgefordert werden zwei Zahlen ein zu geben und das Programm gibt die Summe dieser beiden Zahlen zurück.\n",
    " \n",
    "__Tip__: Um Benutzereingaben abzufragen gibt es die Funktion input(Ausgabetext). Diese gibt den Ausgabetext aus und warte bis der Benutzer seine Eingabe mit Return bestätigt hat. Die Benutzereingabe wird von der Funktion als String zurückgegeben."
   ]
  },
  {
   "cell_type": "markdown",
   "metadata": {
    "slideshow": {
     "slide_type": "slide"
    }
   },
   "source": [
    "**_Ausführen einer Pythondatei_**\n",
    "\n",
    "_Windows_\n",
    "Normalerweise wird die Dateiendung __.py__ mit __python__ verknüpft und so kann eine Pythondatei einfach mit einen Doppelklick ausgeführt werden.\n",
    "Will man, dass beim Start des Programms keine Kommandozeile geöffnet wird kann man die Datei in __.pyw__ umwandeln.\n",
    "\n",
    "In der Kommandozeile führt man die Datei einfach mit __py datei.py__ aus.\n",
    "\n",
    "_Linux oder Mac_\n",
    "Hier wird die Datei einfach im Terminal mit __python datei.py__ ausgeführt.\n",
    "\n",
    "\n",
    "Ruft man eine Pythondatei auf, dann wird alles ausgeführt, dass ich auf der obersten Ebene befindet. Also all das, was nicht eingerückt ist.\n"
   ]
  },
  {
   "cell_type": "markdown",
   "metadata": {
    "slideshow": {
     "slide_type": "subslide"
    }
   },
   "source": [
    "___Aufbau einer Pythondatei___\n",
    "\n",
    "Die ersten Zeilen einer Pythondatei enthalten keine Code sondern beschreiben die Datei.\n",
    "```Python\n",
    "#!/usr/bin/env python3\n",
    "# -*- coding: utf-8 -*-\n",
    "\"\"\"\n",
    "Einfacher Addierer\n",
    "\"\"\"\n",
    "```\n",
    "\n",
    "Dabei ist die erste Zeile `python #!/usr/bin/env python3` nur für unix basierte (Linux und MacOs) wichtig. Diese Zeile gibt an wie die Datei ausgeführt werden soll. In diese Fall soll die Datei mit `python3` ausgeführt werden. Ist diese Zeile vorhanden, dann kann man die Datei auch einfach mit Aufruf __./datei.py__ ausführen.\n",
    "\n"
   ]
  },
  {
   "cell_type": "markdown",
   "metadata": {
    "slideshow": {
     "slide_type": "subslide"
    }
   },
   "source": [
    "```Python\n",
    "# -*- coding: utf-8 -*-\n",
    "```\n",
    "Gibt das sogenannte Encoding der Datei an, d.h. wie werden die Buchstaben im Speicher abgebildet. Dies wird dann wichtig, wenn Umlaute in der Datei vorkommen. Das angegebe Encoding, hier __utf-8__, muss mit dem überstimmen, dass der Texteditor verwendet."
   ]
  },
  {
   "cell_type": "markdown",
   "metadata": {
    "slideshow": {
     "slide_type": "subslide"
    }
   },
   "source": [
    "```Python\n",
    "\"\"\"\n",
    "Einfacher Addierer\n",
    "\"\"\"\n",
    "```\n",
    "Ist ein Kommentar der das Programm in der Dateibeschreibt."
   ]
  },
  {
   "cell_type": "markdown",
   "metadata": {
    "slideshow": {
     "slide_type": "skip"
    }
   },
   "source": [
    "Moderne Pythonkonsolen\n",
    "-------------------------\n",
    "\n",
    "Die im folgende Vorgestellen Pythonkonsolen werden automatisch mit der [Anacondadistribution](https://www.anaconda.com/download/) installiert.\n",
    "1. [ipython](https://ipython.org/)\n",
    "2. [jupyter qtconsole](https://github.com/jupyter/qtconsole)\n",
    "3. [jupyter notebook](http://jupyter.org/)"
   ]
  },
  {
   "cell_type": "markdown",
   "metadata": {
    "slideshow": {
     "slide_type": "slide"
    }
   },
   "source": [
    "IPython\n",
    "--------\n",
    "[IPython](https://ipython.org/) ist einen Konsolenanwendung sehr ähnlich wie `python.exe` selbst, nur mit deutlich größeren Funktionsumfang.\n",
    "\n",
    "- Sessionübergreifende History mit Suche (%hist -g foo)\n",
    "- Zugriff auf alte Ergebnisse (_1)\n",
    "- %magic (%ls, %cd)\n",
    "- Ausführen von Pythondateien (%run)\n",
    "\n",
    "Installieren läßt sich ipython unter Windows mit folgenden Kommando in der Eingabeaufforderung\n",
    "_py -m pip install ipython_\n",
    "\n",
    "Zum starten öffnet man die Eingabeaufforderung und ruft _c:\\Users\\\\**Benutzername**\\AppData\\Local\\Programs\\Python\\Python37\\Scripts>ipython.exe_"
   ]
  },
  {
   "cell_type": "markdown",
   "metadata": {
    "slideshow": {
     "slide_type": "slide"
    }
   },
   "source": [
    "Gültigkeitsbereich von Variablen\n",
    "-------------------------------------\n",
    "\n",
    "Variablen sind immer nur in den Codebereich in dem Sie definiert wurden gültig."
   ]
  },
  {
   "cell_type": "code",
   "execution_count": null,
   "metadata": {},
   "outputs": [],
   "source": [
    "module_var = 5 #Gilt im ganzen Modul/Datei\n",
    "\n",
    "def spam():\n",
    "    function_var = 5 # Gilt nur in der Funktion\n",
    "    \n",
    "print(module_var)\n",
    "print(function_var) #Nicht definiert"
   ]
  },
  {
   "cell_type": "markdown",
   "metadata": {
    "slideshow": {
     "slide_type": "subslide"
    }
   },
   "source": [
    "Auf globale, modulweit gültige, Variablen kann man auch in einer Funktion zugreifen. Es ist aber Vorsicht geboten."
   ]
  },
  {
   "cell_type": "code",
   "execution_count": null,
   "metadata": {},
   "outputs": [],
   "source": [
    "GLOBAL_VAR = 'Achtung'\n",
    "\n",
    "def ham():\n",
    "    print(GLOBAL_VAR)\n",
    "    \n",
    "ham()\n",
    "\n"
   ]
  },
  {
   "cell_type": "code",
   "execution_count": null,
   "metadata": {
    "slideshow": {
     "slide_type": "subslide"
    }
   },
   "outputs": [],
   "source": [
    "GLOBAL_VAR = 'Achtung'\n",
    "\n",
    "def ham():\n",
    "    GLOBAL_VAR='Das geht schief' #hier wird eine lokale Varialbe angelegt\n",
    "    print(GLOBAL_VAR)\n",
    "    \n",
    "ham()\n",
    "print(GLOBAL_VAR)"
   ]
  },
  {
   "cell_type": "code",
   "execution_count": null,
   "metadata": {
    "slideshow": {
     "slide_type": "subslide"
    }
   },
   "outputs": [],
   "source": [
    "GLOBAL_VAR = 'Achtung'\n",
    "\n",
    "def ham():\n",
    "    global GLOBAL_VAR\n",
    "    GLOBAL_VAR = 'Das geht'\n",
    "    print(GLOBAL_VAR)\n",
    "    \n",
    "ham()\n",
    "print(GLOBAL_VAR)"
   ]
  },
  {
   "cell_type": "markdown",
   "metadata": {
    "slideshow": {
     "slide_type": "subslide"
    }
   },
   "source": [
    "__Beispiel__:\n",
    "\n",
    "- Erstelle eine globale Variable und weise ihr einen Wert zu\n",
    "- Erstelle eine Funktion die, die Vabriale auf den Bildschirm ausgibt\n",
    "- Verändere die Variable in der Funktion und gebe sie in der Funktion und außerhalb der Funktion aus.\n"
   ]
  },
  {
   "cell_type": "markdown",
   "metadata": {
    "collapsed": true,
    "slideshow": {
     "slide_type": "slide"
    }
   },
   "source": [
    "Import aus anderen Modulen\n",
    "--------------------------\n",
    "\n",
    "Will man Funktionen oder Variablen aus anderen Modulen, d.h. Dateien, verwenden, muss man diese importieren.\n",
    "Diese ist sehr wichtig um Programm übersichtlich und lesbar strukturieren zu können.\n",
    "\n",
    "Für den Import gibt es verschiedene Schreibweisen."
   ]
  },
  {
   "cell_type": "code",
   "execution_count": null,
   "metadata": {},
   "outputs": [],
   "source": [
    "import sys\n",
    "sys.copyright"
   ]
  },
  {
   "cell_type": "markdown",
   "metadata": {
    "slideshow": {
     "slide_type": "subslide"
    }
   },
   "source": [
    "So wird das Modul geladen und Code auf der Modulebene wird ausgeführt."
   ]
  },
  {
   "cell_type": "code",
   "execution_count": null,
   "metadata": {},
   "outputs": [],
   "source": [
    "import sub_module"
   ]
  },
  {
   "cell_type": "markdown",
   "metadata": {
    "slideshow": {
     "slide_type": "subslide"
    }
   },
   "source": [
    "Dies wird allerdings nur einmal durchgeführt. Ist das Modul bereits importiert, wird der Code auf Modulebene nicht nochmal ausgeführt"
   ]
  },
  {
   "cell_type": "code",
   "execution_count": null,
   "metadata": {},
   "outputs": [],
   "source": [
    "import sub_module"
   ]
  },
  {
   "cell_type": "markdown",
   "metadata": {
    "slideshow": {
     "slide_type": "subslide"
    }
   },
   "source": [
    "Will man jetzt auf Funktionen oder Variablen aus dem Module zugreifen, muss man immer den Modulenamen voranstellen."
   ]
  },
  {
   "cell_type": "code",
   "execution_count": null,
   "metadata": {},
   "outputs": [],
   "source": [
    "sub_module.AGLOBALVARIABLE"
   ]
  },
  {
   "cell_type": "code",
   "execution_count": null,
   "metadata": {},
   "outputs": [],
   "source": [
    "sub_module.imported_function()"
   ]
  },
  {
   "cell_type": "markdown",
   "metadata": {
    "slideshow": {
     "slide_type": "subslide"
    }
   },
   "source": [
    "Diese Schreibweise macht Sinn, wenn man viele Elemente aus einem Modul benutzen will, hat aber den Nachteil, dass der Code etwas länger und unlesbarer wird. Deshalb ist es oft besser nur genau die Funktionen oder Variablen zu importieren die man auch benötigt."
   ]
  },
  {
   "cell_type": "code",
   "execution_count": null,
   "metadata": {},
   "outputs": [],
   "source": [
    "from sub_module import imported_function\n",
    "imported_function()"
   ]
  },
  {
   "cell_type": "markdown",
   "metadata": {
    "slideshow": {
     "slide_type": "subslide"
    }
   },
   "source": [
    "So braucht man den Modulnamen nicht voranstellen und bekommt kurzen lesbaren Code. Außerdem ist es deutlich einfacher erkennbar welche Elemente man wirklich aus einen anderen Modul benötigt und hat so einen besseren Überblick über seine Abhängigkeiten.\n",
    "\n",
    "> __Wichtig__\n",
    ">\n",
    "> Auch bei dieser Art des Imports wird der Code auf Modulebene ausgeführt.\n",
    "\n",
    "\n",
    "\n"
   ]
  },
  {
   "cell_type": "code",
   "execution_count": null,
   "metadata": {},
   "outputs": [],
   "source": [
    "from other_module import just_a_function\n",
    "just_a_function()"
   ]
  },
  {
   "cell_type": "markdown",
   "metadata": {
    "slideshow": {
     "slide_type": "subslide"
    }
   },
   "source": [
    "Die folgende Schreibweise ist sinnvoll für das interaktive arbeiten im Terminal und für Ausnahmefälle im Programmcode. Mit dieser Schreibweise lassen sich alle Funktionen und Variablen aus einen Modul auf einmal importieren."
   ]
  },
  {
   "cell_type": "code",
   "execution_count": null,
   "metadata": {},
   "outputs": [],
   "source": [
    "from sub_module import *\n",
    "imported_function()\n",
    "AGLOBALVARIABLE"
   ]
  },
  {
   "cell_type": "markdown",
   "metadata": {},
   "source": [
    "Durch diese Schreibweise verliert man den Überblick was alles in den aktuellen Namensraum imporiert wird und es kann zu ungewollten Verhalten kommen."
   ]
  },
  {
   "cell_type": "markdown",
   "metadata": {
    "slideshow": {
     "slide_type": "subslide"
    }
   },
   "source": [
    "> __TIP:__\n",
    ">\n",
    "> Mit den folgende Codebaustein kann man eine Pythondatei als Startdatei und Importmodul verwenden.\n",
    "> \n",
    "> \n",
    "```Python\n",
    "if __name__ == '__main__':\n",
    "    #Code hier wird nur ausgeführt wenn es die Startdatei ist.\n",
    "    #Wurde die Datei importiert wird der Code nicht ausgeführt,\n",
    "    #da dann der __name__ nicht '__main__'\n",
    "``` \n",
    ">"
   ]
  },
  {
   "cell_type": "markdown",
   "metadata": {
    "slideshow": {
     "slide_type": "subslide"
    }
   },
   "source": [
    "__Beispie__: \n",
    "\n",
    "- Erstelle ein Pythonmodul mit Funktionen für die 4 Grundrechenarten (Beachte den Aufbau einer Pythondatei)\n",
    "- Gebe das Ergebnis von Berechnungen auf den Bildschirm aus. Für jede Grundrechnenart mindestens eine Berechnung\n",
    "- Verwende die Funktionen in einem zweiten Modul, ohne dass die Berechnungen aus dem ersten Modul ausgeführt werden\n",
    "\n"
   ]
  }
 ],
 "metadata": {
  "anaconda-cloud": {},
  "celltoolbar": "Slideshow",
  "kernelspec": {
   "display_name": "Python 3",
   "language": "python",
   "name": "python3"
  },
  "language_info": {
   "codemirror_mode": {
    "name": "ipython",
    "version": 3
   },
   "file_extension": ".py",
   "mimetype": "text/x-python",
   "name": "python",
   "nbconvert_exporter": "python",
   "pygments_lexer": "ipython3",
   "version": "3.6.7"
  }
 },
 "nbformat": 4,
 "nbformat_minor": 1
}
