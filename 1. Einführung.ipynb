{
 "cells": [
  {
   "cell_type": "markdown",
   "metadata": {
    "collapsed": true,
    "slideshow": {
     "slide_type": "slide"
    }
   },
   "source": [
    "Das einfachste Program der Welt\n",
    "-------------------------------\n",
    "\n",
    "Das erste Programm in jeder Programmiersprache ist \"Hello World\". Zugegebenermassen ist das Programm auf den ersten Blick sinnlos. Aber läuft dieses Programm ist sichergestellt, dass die Infrastruktur richtig installiert wurde."
   ]
  },
  {
   "cell_type": "code",
   "execution_count": null,
   "metadata": {
    "collapsed": false
   },
   "outputs": [],
   "source": []
  },
  {
   "cell_type": "markdown",
   "metadata": {
    "slideshow": {
     "slide_type": "slide"
    }
   },
   "source": [
    "Variablen\n",
    "----------\n",
    "\n",
    "Python ist dynamisch typisiert, d.h. Python entscheidet selber welchen Datentyp es für eine Variable verwendet. Dafür verwendet es das sogenannte\n",
    "__ _Duck-Typing_ __\n",
    "\n",
    ">„Wenn ich einen Vogel sehe, der wie eine Ente läuft, wie eine Ente schwimmt und wie eine Ente schnattert, dann nenne ich diesen Vogel eine Ente.“\n",
    "\n",
    ">_James Whitcomb Riley_\n"
   ]
  },
  {
   "cell_type": "code",
   "execution_count": 1,
   "metadata": {
    "collapsed": false,
    "slideshow": {
     "slide_type": "subslide"
    }
   },
   "outputs": [
    {
     "data": {
      "text/plain": [
       "int"
      ]
     },
     "execution_count": 1,
     "metadata": {},
     "output_type": "execute_result"
    }
   ],
   "source": [
    "i = 5\n",
    "type(i)"
   ]
  },
  {
   "cell_type": "code",
   "execution_count": 2,
   "metadata": {
    "collapsed": false
   },
   "outputs": [
    {
     "data": {
      "text/plain": [
       "float"
      ]
     },
     "execution_count": 2,
     "metadata": {},
     "output_type": "execute_result"
    }
   ],
   "source": [
    "f = 5.0\n",
    "type(f)"
   ]
  },
  {
   "cell_type": "code",
   "execution_count": 3,
   "metadata": {
    "collapsed": false,
    "slideshow": {
     "slide_type": "-"
    }
   },
   "outputs": [
    {
     "data": {
      "text/plain": [
       "str"
      ]
     },
     "execution_count": 3,
     "metadata": {},
     "output_type": "execute_result"
    }
   ],
   "source": [
    "a = 'spam'\n",
    "type(a)"
   ]
  },
  {
   "cell_type": "code",
   "execution_count": 4,
   "metadata": {
    "collapsed": false,
    "slideshow": {
     "slide_type": "subslide"
    }
   },
   "outputs": [
    {
     "data": {
      "text/plain": [
       "'spam egg'"
      ]
     },
     "execution_count": 4,
     "metadata": {},
     "output_type": "execute_result"
    }
   ],
   "source": [
    "a + ' egg'"
   ]
  },
  {
   "cell_type": "code",
   "execution_count": 5,
   "metadata": {
    "collapsed": false
   },
   "outputs": [
    {
     "ename": "TypeError",
     "evalue": "must be str, not int",
     "output_type": "error",
     "traceback": [
      "\u001b[0;31m---------------------------------------------------------------------------\u001b[0m",
      "\u001b[0;31mTypeError\u001b[0m                                 Traceback (most recent call last)",
      "\u001b[0;32m<ipython-input-5-a1bd27f4633f>\u001b[0m in \u001b[0;36m<module>\u001b[0;34m()\u001b[0m\n\u001b[0;32m----> 1\u001b[0;31m \u001b[0ma\u001b[0m \u001b[0;34m+\u001b[0m \u001b[0;36m1\u001b[0m\u001b[0;34m\u001b[0m\u001b[0m\n\u001b[0m",
      "\u001b[0;31mTypeError\u001b[0m: must be str, not int"
     ]
    }
   ],
   "source": [
    "a + 1"
   ]
  },
  {
   "cell_type": "code",
   "execution_count": 6,
   "metadata": {
    "collapsed": false
   },
   "outputs": [
    {
     "data": {
      "text/plain": [
       "10.0"
      ]
     },
     "execution_count": 6,
     "metadata": {},
     "output_type": "execute_result"
    }
   ],
   "source": [
    "i + f"
   ]
  },
  {
   "cell_type": "markdown",
   "metadata": {
    "slideshow": {
     "slide_type": "subslide"
    }
   },
   "source": [
    "In anderen Sprachen wie zum Beispiel Java oder C++ sind statisch typisiert, d.h. beim Anlegen einer Variablen muss immer der Typ mit angegeben werden.\n",
    "\n",
    "```c\n",
    "int i=5;\n",
    "```\n"
   ]
  },
  {
   "cell_type": "markdown",
   "metadata": {
    "slideshow": {
     "slide_type": "slide"
    }
   },
   "source": [
    "Funktion\n",
    "---------\n",
    "\n",
    "Funktionen dienen zur Strukturierung des Programmcodes. So lassen sich kleine, einfache, wiederverwendtbare Einheiten schaffen die den Code lesbarer machen.\n",
    "Um zu festzulegen welcher Code zu einer Funktion gehört verwendet Python die Einrückung als Kennzeichung. Das hat zur folge, dass der Code dadurch automatisch auch lesbarer wird.\n",
    "Die Definition einer Funktion beginnt immer mit dem Schlüsselwort __def__ gefolgt von dem Funktionsnamen."
   ]
  },
  {
   "cell_type": "code",
   "execution_count": null,
   "metadata": {
    "collapsed": true
   },
   "outputs": [],
   "source": [
    "def first_useless_function():\n",
    "    print('Doing nothing')\n",
    "    \n",
    "\n",
    "    \n",
    "first_useless_function()"
   ]
  },
  {
   "cell_type": "markdown",
   "metadata": {
    "slideshow": {
     "slide_type": "subslide"
    }
   },
   "source": [
    "Bei der Definition von Funktionen kann mann auch immer Übergabeparameter definieren und sie können Ergebnisse zurückgeben."
   ]
  },
  {
   "cell_type": "code",
   "execution_count": null,
   "metadata": {
    "collapsed": true
   },
   "outputs": [],
   "source": [
    "def function_with_parameter(spam, egg, ham):\n",
    "    print (spam, egg, ham)\n",
    "    \n",
    "function_with_parameter(42, 'spam', 3.1415)"
   ]
  },
  {
   "cell_type": "code",
   "execution_count": null,
   "metadata": {
    "collapsed": true
   },
   "outputs": [],
   "source": [
    "def function_with_result(spam):\n",
    "    return spam\n",
    "\n",
    "function_with_result('egg')"
   ]
  },
  {
   "cell_type": "code",
   "execution_count": null,
   "metadata": {
    "collapsed": true
   },
   "outputs": [],
   "source": [
    "def function_with_results(spam, egg):\n",
    "    return spam, egg\n",
    "\n",
    "a,b = function_with_results(1 ,2)\n",
    "print(a,b)"
   ]
  },
  {
   "cell_type": "markdown",
   "metadata": {
    "slideshow": {
     "slide_type": "subslide"
    }
   },
   "source": [
    "> _ __Beispiel__ _\n",
    ">\n",
    "> Erstelle einen sehr einfachen Taschenrechner. Der Benutzer soll aufgefordert werden zwei Zahlen ein zu geben und das Programm gibt die Summe dieser beiden Zahlen zurück.\n",
    "> \n",
    "> __Tip__: Um Benutzereingaben abzufragen gibt es die Funktion input(Ausgabetext). Diese gibt den Ausgabetext aus und warte bis der Benutzer seine Eingabe mit Return bestätigt hat. Die Benutzereingabe wird von der Funktion als String zurückgegeben."
   ]
  },
  {
   "cell_type": "markdown",
   "metadata": {
    "slideshow": {
     "slide_type": "slide"
    }
   },
   "source": [
    "Gültigkeitsbereich von Variablen\n",
    "-------------------------------------\n",
    "\n",
    "Variablen sind immer nur in den Codebereich in dem Sie definiert wurden gültig."
   ]
  },
  {
   "cell_type": "code",
   "execution_count": null,
   "metadata": {
    "collapsed": true
   },
   "outputs": [],
   "source": [
    "module_var = 5 #Gilt im ganzen Modul/Datei\n",
    "\n",
    "def spam():\n",
    "    function_var = 5 # Gilt nur in der Funktion\n",
    "    \n",
    "print(module_var)\n",
    "print(function_var) #Nicht definiert"
   ]
  },
  {
   "cell_type": "markdown",
   "metadata": {
    "slideshow": {
     "slide_type": "subslide"
    }
   },
   "source": [
    "Auf globale, modulweit gültige, Variablen kann man auch in einer Funktion zugreifen. Es ist aber Vorsicht geboten."
   ]
  },
  {
   "cell_type": "code",
   "execution_count": null,
   "metadata": {
    "collapsed": true
   },
   "outputs": [],
   "source": [
    "global_var = 'Achtung'\n",
    "\n",
    "def ham():\n",
    "    print(global_var)\n",
    "    \n",
    "ham()\n",
    "\n"
   ]
  },
  {
   "cell_type": "code",
   "execution_count": null,
   "metadata": {
    "collapsed": true,
    "slideshow": {
     "slide_type": "subslide"
    }
   },
   "outputs": [],
   "source": [
    "global_var = 'Achtung'\n",
    "\n",
    "def ham():\n",
    "    global_var='Das geht schief' #hier wird eine lokale Varialbe angelegt\n",
    "    print(global_var)\n",
    "    \n",
    "ham()\n",
    "print(global_var)"
   ]
  },
  {
   "cell_type": "code",
   "execution_count": null,
   "metadata": {
    "collapsed": true,
    "slideshow": {
     "slide_type": "subslide"
    }
   },
   "outputs": [],
   "source": [
    "global_var = 'Achtung'\n",
    "\n",
    "def ham():\n",
    "    global global_var\n",
    "    global_var = 'Das geht'\n",
    "    print(global_var)\n",
    "    \n",
    "ham()"
   ]
  },
  {
   "cell_type": "markdown",
   "metadata": {
    "collapsed": true,
    "slideshow": {
     "slide_type": "slide"
    }
   },
   "source": [
    "Import aus anderen Modulen\n",
    "--------------------------\n",
    "\n",
    "Will man Funktionen oder Variablen aus anderen Modulen, d.h. Dateien, verwenden, muss man diese importieren.\n",
    "Diese ist sehr wichtig um Programm übersichtlich und lesbar strukturieren zu können.\n",
    "\n",
    "Für den Import gibt es verschiedene Schreibweisen."
   ]
  },
  {
   "cell_type": "code",
   "execution_count": null,
   "metadata": {
    "collapsed": true
   },
   "outputs": [],
   "source": [
    "import sys"
   ]
  },
  {
   "cell_type": "markdown",
   "metadata": {
    "slideshow": {
     "slide_type": "subslide"
    }
   },
   "source": [
    "So wird das Modul geladen und Code auf der Modulebene wird ausgeführt."
   ]
  },
  {
   "cell_type": "code",
   "execution_count": null,
   "metadata": {
    "collapsed": true
   },
   "outputs": [],
   "source": [
    "import sub_module"
   ]
  },
  {
   "cell_type": "markdown",
   "metadata": {
    "slideshow": {
     "slide_type": "subslide"
    }
   },
   "source": [
    "Dies wird allerdings nur einmal durchgeführt. Ist das Modul bereits importiert, wird der Code auf Modulebene nicht nochmal ausgeführt"
   ]
  },
  {
   "cell_type": "code",
   "execution_count": null,
   "metadata": {
    "collapsed": true
   },
   "outputs": [],
   "source": [
    "import sub_module"
   ]
  },
  {
   "cell_type": "markdown",
   "metadata": {
    "slideshow": {
     "slide_type": "subslide"
    }
   },
   "source": [
    "Will man jetzt auf Funktionen oder Variablen aus dem Module zugreifen, muss man immer den Modulenamen voranstellen."
   ]
  },
  {
   "cell_type": "code",
   "execution_count": null,
   "metadata": {
    "collapsed": true
   },
   "outputs": [],
   "source": [
    "sub_module.AGLOBALVARIABLE"
   ]
  },
  {
   "cell_type": "code",
   "execution_count": null,
   "metadata": {
    "collapsed": true
   },
   "outputs": [],
   "source": [
    "sub_module.imported_function()"
   ]
  },
  {
   "cell_type": "markdown",
   "metadata": {
    "slideshow": {
     "slide_type": "subslide"
    }
   },
   "source": [
    "Diese Schreibweise macht Sinn, wenn man viele Elemente aus einem Modul benutzen will, hat aber den Nachteil, dass der Code etwas länger und unlesbarer wird. Deshalb ist es oft besser nur genau die Funktionen oder Variablen zu importieren die man auch benötigt."
   ]
  },
  {
   "cell_type": "code",
   "execution_count": null,
   "metadata": {
    "collapsed": true
   },
   "outputs": [],
   "source": [
    "from sub_module import imported_function\n",
    "imported_function()"
   ]
  },
  {
   "cell_type": "markdown",
   "metadata": {
    "slideshow": {
     "slide_type": "subslide"
    }
   },
   "source": [
    "So braucht man den Modulnamen nicht voranstellen und bekommt kurzen lesbaren Code. Außerdem ist es deutlich einfacher erkennbar welche Elemente man wirklich aus einen anderen Modul benötigt und hat so einen besseren Überblick über seine Abhängigkeiten.\n",
    "\n",
    "> __Wichtig__\n",
    ">\n",
    "> Auch bei dieser Art des Imports wird der Code auf Modulebene ausgeführt.\n",
    "\n",
    "\n",
    "\n"
   ]
  },
  {
   "cell_type": "code",
   "execution_count": null,
   "metadata": {
    "collapsed": true
   },
   "outputs": [],
   "source": [
    "from other_module import just_a_function\n",
    "just_a_function()"
   ]
  },
  {
   "cell_type": "markdown",
   "metadata": {
    "slideshow": {
     "slide_type": "subslide"
    }
   },
   "source": [
    "Die folgende Schreibweise ist sinnvoll für das interaktive arbeiten im Terminal und für Ausnahmefälle im Programmcode. Mit dieser Schreibweise lassen sich alle Funktionen und Variablen aus einen Modul auf einmal importieren."
   ]
  },
  {
   "cell_type": "code",
   "execution_count": null,
   "metadata": {
    "collapsed": true
   },
   "outputs": [],
   "source": [
    "from sub_module import *\n",
    "imported_function()\n",
    "AGLOBALVARIABLE"
   ]
  },
  {
   "cell_type": "markdown",
   "metadata": {},
   "source": [
    "Durch diese Schreibweise verliert man den Überblick was alles in den aktuellen Namensraum imporiert wird und es kann zu ungewollten Verhalten kommen."
   ]
  }
 ],
 "metadata": {
  "anaconda-cloud": {},
  "celltoolbar": "Slideshow",
  "kernelspec": {
   "display_name": "Python 3",
   "language": "python",
   "name": "python3"
  },
  "language_info": {
   "codemirror_mode": {
    "name": "ipython",
    "version": 3
   },
   "file_extension": ".py",
   "mimetype": "text/x-python",
   "name": "python",
   "nbconvert_exporter": "python",
   "pygments_lexer": "ipython3",
   "version": "3.6.2"
  }
 },
 "nbformat": 4,
 "nbformat_minor": 1
}
